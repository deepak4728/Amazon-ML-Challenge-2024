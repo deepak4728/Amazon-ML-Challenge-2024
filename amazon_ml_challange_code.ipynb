{
  "cells": [
    {
      "cell_type": "markdown",
      "metadata": {
        "id": "view-in-github",
        "colab_type": "text"
      },
      "source": [
        "<a href=\"https://colab.research.google.com/github/deepak4728/Amazon-ML-Challenge-2024/blob/main/amazon_ml_challange_code.ipynb\" target=\"_parent\"><img src=\"https://colab.research.google.com/assets/colab-badge.svg\" alt=\"Open In Colab\"/></a>"
      ]
    },
    {
      "cell_type": "markdown",
      "source": [
        "### **Libraries Import**"
      ],
      "metadata": {
        "id": "4VTrR26ozMw9"
      },
      "id": "4VTrR26ozMw9"
    },
    {
      "cell_type": "code",
      "source": [
        "from google.colab import drive\n",
        "drive.mount('/content/drive')\n"
      ],
      "metadata": {
        "colab": {
          "base_uri": "https://localhost:8080/"
        },
        "id": "2wrMyFQKU02-",
        "outputId": "8b226f2a-479f-4381-f5c7-d379e4ee5132"
      },
      "id": "2wrMyFQKU02-",
      "execution_count": null,
      "outputs": [
        {
          "output_type": "stream",
          "name": "stdout",
          "text": [
            "Mounted at /content/drive\n"
          ]
        }
      ]
    },
    {
      "cell_type": "code",
      "execution_count": null,
      "id": "f1fe4b65-c0c2-4718-8715-aa5549a029bb",
      "metadata": {
        "id": "f1fe4b65-c0c2-4718-8715-aa5549a029bb"
      },
      "outputs": [],
      "source": [
        "import os\n",
        "import pandas as pd\n",
        "import tensorflow as tf\n",
        "from tensorflow.keras import layers\n",
        "import numpy as np\n",
        "import random\n",
        "import cv2\n",
        "# import pytesseract\n",
        "import requests\n",
        "from io import BytesIO\n",
        "from PIL import Image\n",
        "from sklearn.preprocessing import LabelEncoder\n",
        "from tensorflow.keras.callbacks import ModelCheckpoint\n",
        "\n",
        "\n",
        "label_encoder=LabelEncoder()"
      ]
    },
    {
      "cell_type": "code",
      "source": [
        "# Define the path to save the model in your Google Drive\n",
        "model_save_path = '/content/drive/MyDrive/amazon ML model/model_checkpoint.keras'"
      ],
      "metadata": {
        "id": "X1GrIgOIVEPO"
      },
      "id": "X1GrIgOIVEPO",
      "execution_count": null,
      "outputs": []
    },
    {
      "cell_type": "code",
      "source": [
        "# Define the checkpoint callback\n",
        "checkpoint = ModelCheckpoint(\n",
        "    filepath=model_save_path,  # Path to save the model file\n",
        "    monitor='val_loss',  # Monitors the validation loss to decide if saving the model\n",
        "    save_best_only=True,  # Only save the model if it improves on the monitored metric\n",
        "    save_weights_only=False,  # Save the entire model (architecture + optimizer state + weights)\n",
        "    mode='min',  # 'min' means it will save when the validation loss decreases\n",
        "    verbose=1  # Verbose output during saving\n",
        ")"
      ],
      "metadata": {
        "id": "ZBPO5i54TVRe"
      },
      "id": "ZBPO5i54TVRe",
      "execution_count": null,
      "outputs": []
    },
    {
      "cell_type": "markdown",
      "source": [
        "### **Model defination and compile**"
      ],
      "metadata": {
        "id": "PBzXkprGzXt8"
      },
      "id": "PBzXkprGzXt8"
    },
    {
      "cell_type": "code",
      "source": [
        "class myModel(tf.keras.Model):\n",
        "    def __init__(self, **kwargs):\n",
        "        super(myModel, self).__init__(**kwargs)\n",
        "\n",
        "        # Feature extraction for text regions (using CNN backbone)\n",
        "        self.conv1 = layers.Conv2D(32, (3, 3), activation='relu', name=\"conv1\")\n",
        "        self.pool1 = layers.MaxPooling2D((2, 2), name=\"maxpooling1\")\n",
        "        self.conv2 = layers.Conv2D(64, (3, 3), activation='relu', name=\"conv2\")\n",
        "        self.pool2 = layers.MaxPooling2D((2, 2), name=\"maxpooling2\")\n",
        "        self.flatten = layers.Flatten(name=\"cnn_flatten\")\n",
        "        self.image_dense = layers.Dense(128, activation='relu', name=\"cnn_dense\")\n",
        "\n",
        "        # Group ID processing\n",
        "        self.group_id_dense = layers.Dense(16, activation='relu', name=\"group_dense\")\n",
        "\n",
        "        # Text processing for entity_name (Embedding or Dense Layer)\n",
        "        # self.entity_name_embedding = layers.Embedding(input_dim=(999,), output_dim=16)  # Assuming entity names are tokenized and encoded\n",
        "        self.entity_name_dense = layers.Dense(16, activation='relu', name=\"entity_dense\")\n",
        "\n",
        "\n",
        "\n",
        "        # Shared dense layers (after merging all inputs)\n",
        "        self.dense1 = layers.Dense(128, activation='relu', name=\"shared_dense\")\n",
        "\n",
        "        # Output layers\n",
        "        self.numerical_output = layers.Dense(1, activation='linear', name=\"numerical_output\")  # Predicting numerical value\n",
        "        self.unit_output = layers.Dense(38, activation='softmax', name=\"unit_output\")  # Predicting unit (assuming 4 possible units like cm, kg, etc.)\n",
        "\n",
        "    # def get_config(self):\n",
        "    #     # This is required for serialization, ensuring it captures any custom arguments\n",
        "    #     config = super(myModel, self).get_config()\n",
        "    #     return config\n",
        "\n",
        "    def call(self, inputs):\n",
        "        # Unpack the inputs: image, group_id, entity_name\n",
        "        image_input, group_id_input, entity_name_input = inputs\n",
        "\n",
        "        # Ensure image input is 4D\n",
        "        x = tf.reshape(image_input, [-1, 224, 224, 1])  # Reshape if needed\n",
        "\n",
        "        x = self.conv1(x)\n",
        "        x = self.pool1(x)\n",
        "        x = self.conv2(x)\n",
        "        x = self.pool2(x)\n",
        "        x = self.flatten(x)\n",
        "        x = self.image_dense(x)\n",
        "\n",
        "        # Process group_id through dense layer\n",
        "        group_id_processed = tf.reshape(group_id_input, (-1, 1))  # Reshape to (batch_size, 1)\n",
        "        group_id_processed = self.group_id_dense(group_id_processed)\n",
        "\n",
        "        # Process entity_name input (text) through embedding + dense layers\n",
        "        entity_name_processed = tf.reshape(entity_name_input, (-1, 1))  # Reshape to (batch_size, 1)\n",
        "        entity_name_processed = self.entity_name_dense(entity_name_processed)\n",
        "\n",
        "\n",
        "\n",
        "        # Concatenate the processed inputs\n",
        "        combined = layers.concatenate([x, group_id_processed, entity_name_processed])\n",
        "\n",
        "        # Pass through shared dense layer\n",
        "        z = self.dense1(combined)\n",
        "\n",
        "        # Predict numerical value and unit\n",
        "        numerical_value_output = self.numerical_output(z)  # Predicting continuous value\n",
        "        # numerical_value_output = tf.reshape(numerical_value_output, (-1, 1))  # Reshape to (batch_size, 1)\n",
        "        unit_output = self.unit_output(z)  # Predicting unit (softmax for classification)\n",
        "\n",
        "        return numerical_value_output, unit_output\n"
      ],
      "metadata": {
        "id": "KrQUasHJG9yc"
      },
      "id": "KrQUasHJG9yc",
      "execution_count": null,
      "outputs": []
    },
    {
      "cell_type": "markdown",
      "source": [
        "### ***`for numerical value and unit extraction from entity column`***"
      ],
      "metadata": {
        "id": "pNzQzyQT0_Sm"
      },
      "id": "pNzQzyQT0_Sm"
    },
    {
      "cell_type": "code",
      "execution_count": null,
      "id": "ab55fd1e-c01c-4ae8-b728-c62ec5641e5a",
      "metadata": {
        "id": "ab55fd1e-c01c-4ae8-b728-c62ec5641e5a"
      },
      "outputs": [],
      "source": [
        "# import pandas as pd\n",
        "\n",
        "# # Load the Excel file\n",
        "# file_path = '/content/train_splitted.xlsx'\n",
        "# df = pd.read_excel(file_path)\n",
        "\n",
        "# def unit_extract(lst):\n",
        "#   lst=lst.split(\" \")\n",
        "#   try:\n",
        "#       # Try to convert the element at index -2 to an integer\n",
        "#       float(lst[-2])\n",
        "\n",
        "#       # If successful, return the element at index -1\n",
        "#       return lst[-1]\n",
        "#   except (ValueError, IndexError):\n",
        "#       try:\n",
        "#           if(lst[-2][-1]==\"]\"):\n",
        "#               return lst[-1]\n",
        "#               # Try to check if element at -2 can be converted to a list\n",
        "#           else:\n",
        "#               # Otherwise, concatenate the elements at -2 and -1\n",
        "#               return lst[-2] + \" \" + lst[-1]\n",
        "#       except:\n",
        "#           # Fallback case for other unexpected issues\n",
        "\n",
        "#           return lst[-2] + \" \" + lst[-1]\n",
        "\n",
        "# # Apply the unit extraction function to each row\n",
        "# df['extracted_unit'] = df['entity_value'].apply(unit_extract)\n",
        "\n",
        "# # Save the updated dataframe to a new Excel file\n",
        "# output_file_path = '/content/train_cleaned.xlsx'\n",
        "# df.to_excel(output_file_path, index=False)\n",
        "\n",
        "# # Return the path of the updated file\n",
        "# output_file_path"
      ]
    },
    {
      "cell_type": "markdown",
      "source": [
        "Function for entity_name to integer mapping"
      ],
      "metadata": {
        "id": "3DOyvoqCZyQP"
      },
      "id": "3DOyvoqCZyQP"
    },
    {
      "cell_type": "code",
      "source": [],
      "metadata": {
        "id": "sJbr8cC2ZxnZ"
      },
      "id": "sJbr8cC2ZxnZ",
      "execution_count": null,
      "outputs": []
    },
    {
      "cell_type": "markdown",
      "source": [
        "### **Image download and preprocess function**"
      ],
      "metadata": {
        "id": "nAvyj3JLzoM9"
      },
      "id": "nAvyj3JLzoM9"
    },
    {
      "cell_type": "code",
      "execution_count": null,
      "id": "62274449-2369-4bf4-8e43-dfebb394d4f1",
      "metadata": {
        "scrolled": true,
        "collapsed": true,
        "id": "62274449-2369-4bf4-8e43-dfebb394d4f1"
      },
      "outputs": [],
      "source": [
        "# Function to download and preprocess an image and returns a numpy array\n",
        "# @tf.function\n",
        "def download_and_preprocess_image(url, target_size=(224, 224)):\n",
        "    try:\n",
        "        # Download the image\n",
        "        response = requests.get(url)\n",
        "        if response.status_code == 200:\n",
        "            # Convert the image content to a PIL image\n",
        "            image = Image.open(BytesIO(response.content))\n",
        "\n",
        "            # Convert PIL image to NumPy array and then to OpenCV format (BGR)\n",
        "            image = np.array(image)\n",
        "            image = cv2.cvtColor(image, cv2.COLOR_BGR2GRAY)\n",
        "\n",
        "            # Resize the image to the target size (e.g., 224x224 for many models)\n",
        "            image = cv2.resize(image, target_size)\n",
        "\n",
        "            # Optionally, normalize the image (depends on the model you're using)\n",
        "            image = image / 255.0  # Normalize to [0, 1]\n",
        "\n",
        "            return image\n",
        "        else:\n",
        "            print(f\"Failed to download image from {url}\")\n",
        "            return None\n",
        "    except Exception as e:\n",
        "        print(f\"Error processing image from {url}: {e}\")\n",
        "        return None"
      ]
    },
    {
      "cell_type": "markdown",
      "source": [
        "### **Batch process function that returns processed data as lists for model fit**"
      ],
      "metadata": {
        "id": "ShFKcwHmlB7K"
      },
      "id": "ShFKcwHmlB7K"
    },
    {
      "cell_type": "code",
      "source": [
        "# @tf.function\n",
        "def batch_process(batch_df, b_num):\n",
        "\n",
        "      # Initialize lists/arrays for the current batch\n",
        "      image_list = np.empty((0, 50176))\n",
        "      group_id_list = np.array([], dtype=int)\n",
        "      entity_name_list = np.array([], dtype=str)\n",
        "      entity_value_num_list = np.array([], dtype=float)\n",
        "      entity_value_unit_list = np.array([], dtype=str)\n",
        "\n",
        "      # entity_value_list=np.array([], dtype=str)\n",
        "      # Iterate through the batch\n",
        "      for index, row in batch_df.iterrows():\n",
        "          image_url = row['image_link']  # Access the image URL\n",
        "          image = download_and_preprocess_image(image_url)\n",
        "\n",
        "          if image is not None:\n",
        "              # Reshape and prepare data for the batch\n",
        "              image = image.reshape(1, 50176)  # Assuming 224x224 image reshaped\n",
        "              entity = row[\"entity_name\"]\n",
        "              group = row[\"group_id\"]\n",
        "              num_value=row[\"entity_value_numeric\"]\n",
        "              unit_value=row[\"entity_value_unit\"]\n",
        "\n",
        "              # Append the data to the batch arrays\n",
        "              image_list = np.append(image_list, image, axis=0)\n",
        "              group_id_list = np.append(group_id_list, group)\n",
        "              entity_name_list = np.append(entity_name_list, entity)\n",
        "              entity_value_num_list = np.append(entity_value_num_list, num_value)\n",
        "              entity_value_unit_list = np.append(entity_value_unit_list, unit_value)\n",
        "\n",
        "\n",
        "              # Fit the label encoder to the entity_name column\n",
        "              encoded_entity_names = label_encoder.fit_transform(entity_name_list)\n",
        "\n",
        "              # Fit the label encoder to the entity_value_unit_list column\n",
        "              encoded_entity_unit = label_encoder.fit_transform(entity_value_unit_list)\n",
        "\n",
        "\n",
        "          else:\n",
        "              print(f\"Image at index {index} could not be processed.\")\n",
        "              continue\n",
        "      print(f\"Processed batch: {b_num + 1}\")\n",
        "      return [image_list, group_id_list, encoded_entity_names], [entity_value_num_list, encoded_entity_unit]\n",
        "\n"
      ],
      "metadata": {
        "id": "RnHDk1Fxds2v"
      },
      "id": "RnHDk1Fxds2v",
      "execution_count": null,
      "outputs": []
    },
    {
      "cell_type": "markdown",
      "source": [
        "### **Test data load and label encoder fit on entity_units**"
      ],
      "metadata": {
        "id": "1EjaR3G1lOcS"
      },
      "id": "1EjaR3G1lOcS"
    },
    {
      "cell_type": "code",
      "source": [
        "# Load the dataset\n",
        "df = pd.read_csv(\"train_modified_csv.csv\")\n",
        "label_encoder.fit(df['entity_value_unit'])"
      ],
      "metadata": {
        "id": "NgY9gTAzn_o8",
        "outputId": "2c5c83f2-9397-46e0-8054-554912613537",
        "colab": {
          "base_uri": "https://localhost:8080/",
          "height": 74
        }
      },
      "id": "NgY9gTAzn_o8",
      "execution_count": null,
      "outputs": [
        {
          "output_type": "execute_result",
          "data": {
            "text/plain": [
              "LabelEncoder()"
            ],
            "text/html": [
              "<style>#sk-container-id-3 {color: black;}#sk-container-id-3 pre{padding: 0;}#sk-container-id-3 div.sk-toggleable {background-color: white;}#sk-container-id-3 label.sk-toggleable__label {cursor: pointer;display: block;width: 100%;margin-bottom: 0;padding: 0.3em;box-sizing: border-box;text-align: center;}#sk-container-id-3 label.sk-toggleable__label-arrow:before {content: \"▸\";float: left;margin-right: 0.25em;color: #696969;}#sk-container-id-3 label.sk-toggleable__label-arrow:hover:before {color: black;}#sk-container-id-3 div.sk-estimator:hover label.sk-toggleable__label-arrow:before {color: black;}#sk-container-id-3 div.sk-toggleable__content {max-height: 0;max-width: 0;overflow: hidden;text-align: left;background-color: #f0f8ff;}#sk-container-id-3 div.sk-toggleable__content pre {margin: 0.2em;color: black;border-radius: 0.25em;background-color: #f0f8ff;}#sk-container-id-3 input.sk-toggleable__control:checked~div.sk-toggleable__content {max-height: 200px;max-width: 100%;overflow: auto;}#sk-container-id-3 input.sk-toggleable__control:checked~label.sk-toggleable__label-arrow:before {content: \"▾\";}#sk-container-id-3 div.sk-estimator input.sk-toggleable__control:checked~label.sk-toggleable__label {background-color: #d4ebff;}#sk-container-id-3 div.sk-label input.sk-toggleable__control:checked~label.sk-toggleable__label {background-color: #d4ebff;}#sk-container-id-3 input.sk-hidden--visually {border: 0;clip: rect(1px 1px 1px 1px);clip: rect(1px, 1px, 1px, 1px);height: 1px;margin: -1px;overflow: hidden;padding: 0;position: absolute;width: 1px;}#sk-container-id-3 div.sk-estimator {font-family: monospace;background-color: #f0f8ff;border: 1px dotted black;border-radius: 0.25em;box-sizing: border-box;margin-bottom: 0.5em;}#sk-container-id-3 div.sk-estimator:hover {background-color: #d4ebff;}#sk-container-id-3 div.sk-parallel-item::after {content: \"\";width: 100%;border-bottom: 1px solid gray;flex-grow: 1;}#sk-container-id-3 div.sk-label:hover label.sk-toggleable__label {background-color: #d4ebff;}#sk-container-id-3 div.sk-serial::before {content: \"\";position: absolute;border-left: 1px solid gray;box-sizing: border-box;top: 0;bottom: 0;left: 50%;z-index: 0;}#sk-container-id-3 div.sk-serial {display: flex;flex-direction: column;align-items: center;background-color: white;padding-right: 0.2em;padding-left: 0.2em;position: relative;}#sk-container-id-3 div.sk-item {position: relative;z-index: 1;}#sk-container-id-3 div.sk-parallel {display: flex;align-items: stretch;justify-content: center;background-color: white;position: relative;}#sk-container-id-3 div.sk-item::before, #sk-container-id-3 div.sk-parallel-item::before {content: \"\";position: absolute;border-left: 1px solid gray;box-sizing: border-box;top: 0;bottom: 0;left: 50%;z-index: -1;}#sk-container-id-3 div.sk-parallel-item {display: flex;flex-direction: column;z-index: 1;position: relative;background-color: white;}#sk-container-id-3 div.sk-parallel-item:first-child::after {align-self: flex-end;width: 50%;}#sk-container-id-3 div.sk-parallel-item:last-child::after {align-self: flex-start;width: 50%;}#sk-container-id-3 div.sk-parallel-item:only-child::after {width: 0;}#sk-container-id-3 div.sk-dashed-wrapped {border: 1px dashed gray;margin: 0 0.4em 0.5em 0.4em;box-sizing: border-box;padding-bottom: 0.4em;background-color: white;}#sk-container-id-3 div.sk-label label {font-family: monospace;font-weight: bold;display: inline-block;line-height: 1.2em;}#sk-container-id-3 div.sk-label-container {text-align: center;}#sk-container-id-3 div.sk-container {/* jupyter's `normalize.less` sets `[hidden] { display: none; }` but bootstrap.min.css set `[hidden] { display: none !important; }` so we also need the `!important` here to be able to override the default hidden behavior on the sphinx rendered scikit-learn.org. See: https://github.com/scikit-learn/scikit-learn/issues/21755 */display: inline-block !important;position: relative;}#sk-container-id-3 div.sk-text-repr-fallback {display: none;}</style><div id=\"sk-container-id-3\" class=\"sk-top-container\"><div class=\"sk-text-repr-fallback\"><pre>LabelEncoder()</pre><b>In a Jupyter environment, please rerun this cell to show the HTML representation or trust the notebook. <br />On GitHub, the HTML representation is unable to render, please try loading this page with nbviewer.org.</b></div><div class=\"sk-container\" hidden><div class=\"sk-item\"><div class=\"sk-estimator sk-toggleable\"><input class=\"sk-toggleable__control sk-hidden--visually\" id=\"sk-estimator-id-3\" type=\"checkbox\" checked><label for=\"sk-estimator-id-3\" class=\"sk-toggleable__label sk-toggleable__label-arrow\">LabelEncoder</label><div class=\"sk-toggleable__content\"><pre>LabelEncoder()</pre></div></div></div></div></div>"
            ]
          },
          "metadata": {},
          "execution_count": 34
        }
      ]
    },
    {
      "cell_type": "code",
      "source": [],
      "metadata": {
        "id": "l8aQGmoANK5b"
      },
      "id": "l8aQGmoANK5b",
      "execution_count": null,
      "outputs": []
    },
    {
      "cell_type": "markdown",
      "source": [
        "### **Model object creation and compilation**"
      ],
      "metadata": {
        "id": "O6mq9p1xR5Kz"
      },
      "id": "O6mq9p1xR5Kz"
    },
    {
      "cell_type": "code",
      "source": [
        "from tensorflow.keras.models import load_model\n",
        "from tensorflow.keras.utils import custom_object_scope  # Import custom_object_scope\n",
        "\n",
        "# Define your custom model class (myModel) here if not already defined\n",
        "\n",
        "\n",
        "# Load the partially trained model using custom_object_scope\n",
        "with custom_object_scope({'myModel': myModel}):\n",
        "    model = load_model('/content/drive/MyDrive/amazon ML model/manual save/0_10_model.h5')\n",
        "\n",
        "# Compile the model\n",
        "model.compile(\n",
        "    optimizer='adam',\n",
        "    loss=['mean_absolute_error', 'sparse_categorical_crossentropy'],\n",
        "    metrics=['mean_absolute_error', 'accuracy']\n",
        ")"
      ],
      "metadata": {
        "id": "o-1InFDOMlBb",
        "collapsed": true,
        "colab": {
          "base_uri": "https://localhost:8080/",
          "height": 356
        },
        "outputId": "1b5962ad-951d-4d7a-ad77-64f41759ccb1"
      },
      "id": "o-1InFDOMlBb",
      "execution_count": null,
      "outputs": [
        {
          "output_type": "error",
          "ename": "ValueError",
          "evalue": "Layer count mismatch when loading weights from file. Model expected 0 layers, found 8 saved layers.",
          "traceback": [
            "\u001b[0;31m---------------------------------------------------------------------------\u001b[0m",
            "\u001b[0;31mValueError\u001b[0m                                Traceback (most recent call last)",
            "\u001b[0;32m<ipython-input-7-cd0e81100cf6>\u001b[0m in \u001b[0;36m<cell line: 0>\u001b[0;34m()\u001b[0m\n\u001b[1;32m      7\u001b[0m \u001b[0;31m# Load the partially trained model using custom_object_scope\u001b[0m\u001b[0;34m\u001b[0m\u001b[0;34m\u001b[0m\u001b[0m\n\u001b[1;32m      8\u001b[0m \u001b[0;32mwith\u001b[0m \u001b[0mcustom_object_scope\u001b[0m\u001b[0;34m(\u001b[0m\u001b[0;34m{\u001b[0m\u001b[0;34m'myModel'\u001b[0m\u001b[0;34m:\u001b[0m \u001b[0mmyModel\u001b[0m\u001b[0;34m}\u001b[0m\u001b[0;34m)\u001b[0m\u001b[0;34m:\u001b[0m\u001b[0;34m\u001b[0m\u001b[0;34m\u001b[0m\u001b[0m\n\u001b[0;32m----> 9\u001b[0;31m     \u001b[0mmodel\u001b[0m \u001b[0;34m=\u001b[0m \u001b[0mload_model\u001b[0m\u001b[0;34m(\u001b[0m\u001b[0;34m'/content/drive/MyDrive/amazon ML model/manual save/0_10_model.h5'\u001b[0m\u001b[0;34m)\u001b[0m\u001b[0;34m\u001b[0m\u001b[0;34m\u001b[0m\u001b[0m\n\u001b[0m\u001b[1;32m     10\u001b[0m \u001b[0;34m\u001b[0m\u001b[0m\n\u001b[1;32m     11\u001b[0m \u001b[0;31m# Compile the model\u001b[0m\u001b[0;34m\u001b[0m\u001b[0;34m\u001b[0m\u001b[0m\n",
            "\u001b[0;32m/usr/local/lib/python3.11/dist-packages/keras/src/saving/saving_api.py\u001b[0m in \u001b[0;36mload_model\u001b[0;34m(filepath, custom_objects, compile, safe_mode)\u001b[0m\n\u001b[1;32m    194\u001b[0m         )\n\u001b[1;32m    195\u001b[0m     \u001b[0;32mif\u001b[0m \u001b[0mstr\u001b[0m\u001b[0;34m(\u001b[0m\u001b[0mfilepath\u001b[0m\u001b[0;34m)\u001b[0m\u001b[0;34m.\u001b[0m\u001b[0mendswith\u001b[0m\u001b[0;34m(\u001b[0m\u001b[0;34m(\u001b[0m\u001b[0;34m\".h5\"\u001b[0m\u001b[0;34m,\u001b[0m \u001b[0;34m\".hdf5\"\u001b[0m\u001b[0;34m)\u001b[0m\u001b[0;34m)\u001b[0m\u001b[0;34m:\u001b[0m\u001b[0;34m\u001b[0m\u001b[0;34m\u001b[0m\u001b[0m\n\u001b[0;32m--> 196\u001b[0;31m         return legacy_h5_format.load_model_from_hdf5(\n\u001b[0m\u001b[1;32m    197\u001b[0m             \u001b[0mfilepath\u001b[0m\u001b[0;34m,\u001b[0m \u001b[0mcustom_objects\u001b[0m\u001b[0;34m=\u001b[0m\u001b[0mcustom_objects\u001b[0m\u001b[0;34m,\u001b[0m \u001b[0mcompile\u001b[0m\u001b[0;34m=\u001b[0m\u001b[0mcompile\u001b[0m\u001b[0;34m\u001b[0m\u001b[0;34m\u001b[0m\u001b[0m\n\u001b[1;32m    198\u001b[0m         )\n",
            "\u001b[0;32m/usr/local/lib/python3.11/dist-packages/keras/src/legacy/saving/legacy_h5_format.py\u001b[0m in \u001b[0;36mload_model_from_hdf5\u001b[0;34m(filepath, custom_objects, compile)\u001b[0m\n\u001b[1;32m    136\u001b[0m \u001b[0;34m\u001b[0m\u001b[0m\n\u001b[1;32m    137\u001b[0m             \u001b[0;31m# set weights\u001b[0m\u001b[0;34m\u001b[0m\u001b[0;34m\u001b[0m\u001b[0m\n\u001b[0;32m--> 138\u001b[0;31m             \u001b[0mload_weights_from_hdf5_group\u001b[0m\u001b[0;34m(\u001b[0m\u001b[0mf\u001b[0m\u001b[0;34m[\u001b[0m\u001b[0;34m\"model_weights\"\u001b[0m\u001b[0;34m]\u001b[0m\u001b[0;34m,\u001b[0m \u001b[0mmodel\u001b[0m\u001b[0;34m)\u001b[0m\u001b[0;34m\u001b[0m\u001b[0;34m\u001b[0m\u001b[0m\n\u001b[0m\u001b[1;32m    139\u001b[0m \u001b[0;34m\u001b[0m\u001b[0m\n\u001b[1;32m    140\u001b[0m         \u001b[0;32mif\u001b[0m \u001b[0mcompile\u001b[0m\u001b[0;34m:\u001b[0m\u001b[0;34m\u001b[0m\u001b[0;34m\u001b[0m\u001b[0m\n",
            "\u001b[0;32m/usr/local/lib/python3.11/dist-packages/keras/src/legacy/saving/legacy_h5_format.py\u001b[0m in \u001b[0;36mload_weights_from_hdf5_group\u001b[0;34m(f, model)\u001b[0m\n\u001b[1;32m    355\u001b[0m     \u001b[0mlayer_names\u001b[0m \u001b[0;34m=\u001b[0m \u001b[0mfiltered_layer_names\u001b[0m\u001b[0;34m\u001b[0m\u001b[0;34m\u001b[0m\u001b[0m\n\u001b[1;32m    356\u001b[0m     \u001b[0;32mif\u001b[0m \u001b[0mlen\u001b[0m\u001b[0;34m(\u001b[0m\u001b[0mlayer_names\u001b[0m\u001b[0;34m)\u001b[0m \u001b[0;34m!=\u001b[0m \u001b[0mlen\u001b[0m\u001b[0;34m(\u001b[0m\u001b[0mfiltered_layers\u001b[0m\u001b[0;34m)\u001b[0m\u001b[0;34m:\u001b[0m\u001b[0;34m\u001b[0m\u001b[0;34m\u001b[0m\u001b[0m\n\u001b[0;32m--> 357\u001b[0;31m         raise ValueError(\n\u001b[0m\u001b[1;32m    358\u001b[0m             \u001b[0;34m\"Layer count mismatch when loading weights from file. \"\u001b[0m\u001b[0;34m\u001b[0m\u001b[0;34m\u001b[0m\u001b[0m\n\u001b[1;32m    359\u001b[0m             \u001b[0;34mf\"Model expected {len(filtered_layers)} layers, found \"\u001b[0m\u001b[0;34m\u001b[0m\u001b[0;34m\u001b[0m\u001b[0m\n",
            "\u001b[0;31mValueError\u001b[0m: Layer count mismatch when loading weights from file. Model expected 0 layers, found 8 saved layers."
          ]
        }
      ]
    },
    {
      "cell_type": "code",
      "source": [],
      "metadata": {
        "id": "bcm1LMVZfo5H"
      },
      "id": "bcm1LMVZfo5H",
      "execution_count": null,
      "outputs": []
    },
    {
      "cell_type": "markdown",
      "source": [
        "# **Batches with model fit**"
      ],
      "metadata": {
        "id": "E6y7GzBTHdLb"
      },
      "id": "E6y7GzBTHdLb"
    },
    {
      "cell_type": "code",
      "source": [
        "\n",
        "batch_size = 500  # For example, process 1000 rows at a time\n",
        "\n",
        "# Calculate the number of batches needed\n",
        "num_batches = int(np.ceil(len(df) / batch_size))\n",
        "\n",
        "for batch_num in range(5):\n",
        "    print(f\"Processing batch {batch_num + 1}/{num_batches}...\")\n",
        "\n",
        "    # Define start and end index for the current batch\n",
        "    start_idx = batch_num * batch_size\n",
        "    end_idx = min((batch_num + 1) * batch_size, len(df))\n",
        "\n",
        "    # Extract a batch from the DataFrame\n",
        "    batch_df = df.iloc[start_idx:end_idx]\n",
        "    xa, yb = batch_process(batch_df, batch_num)\n",
        "    model.fit(x=xa, y=yb, batch_size=32, epochs=20, verbose=1, callbacks=[checkpoint])\n",
        "    print(f\"Batch {batch_num + 1} fitted.\")"
      ],
      "metadata": {
        "id": "4opVGqlSekpe",
        "collapsed": true
      },
      "id": "4opVGqlSekpe",
      "execution_count": null,
      "outputs": []
    },
    {
      "cell_type": "code",
      "source": [
        "\n",
        "batch_size = 500  # For example, process 1000 rows at a time\n",
        "\n",
        "# Calculate the number of batches needed\n",
        "num_batches = int(np.ceil(len(df) / batch_size))\n",
        "\n",
        "for batch_num in range(10,20):\n",
        "    print(f\"Processing batch {batch_num + 1}/{20}...\")\n",
        "\n",
        "    # Define start and end index for the current batch\n",
        "    start_idx = batch_num * batch_size\n",
        "    end_idx = min((batch_num + 1) * batch_size, len(df))\n",
        "\n",
        "    # Extract a batch from the DataFrame\n",
        "    batch_df = df.iloc[start_idx:end_idx]\n",
        "    xa, yb = batch_process(batch_df, batch_num)\n",
        "    model.fit(x=xa, y=yb, batch_size=32, epochs=20, verbose=1, callbacks=[checkpoint])\n",
        "    print(f\"Batch {batch_num + 1} fitted.\")"
      ],
      "metadata": {
        "collapsed": true,
        "id": "c7YteIe-bxNh"
      },
      "id": "c7YteIe-bxNh",
      "execution_count": null,
      "outputs": []
    },
    {
      "cell_type": "code",
      "source": [],
      "metadata": {
        "id": "Dm16exMpbmy7"
      },
      "id": "Dm16exMpbmy7",
      "execution_count": null,
      "outputs": []
    },
    {
      "cell_type": "markdown",
      "source": [
        "### **Model Test and prediction**"
      ],
      "metadata": {
        "id": "1UG2HspxSInN"
      },
      "id": "1UG2HspxSInN"
    },
    {
      "cell_type": "code",
      "source": [
        "model.save('/content/drive/MyDrive/amazon ML model/manual save/my_model.h5')  # or TensorFlow SavedModel format\n"
      ],
      "metadata": {
        "colab": {
          "base_uri": "https://localhost:8080/"
        },
        "id": "q3pOkGKLSINK",
        "outputId": "ae50e9dc-00df-432c-daaa-1e1921b941d3"
      },
      "id": "q3pOkGKLSINK",
      "execution_count": null,
      "outputs": [
        {
          "output_type": "stream",
          "name": "stderr",
          "text": [
            "WARNING:absl:You are saving your model as an HDF5 file via `model.save()` or `keras.saving.save_model(model)`. This file format is considered legacy. We recommend using instead the native Keras format, e.g. `model.save('my_model.keras')` or `keras.saving.save_model(model, 'my_model.keras')`. \n"
          ]
        }
      ]
    },
    {
      "cell_type": "code",
      "source": [
        "# batch_df = df.iloc[1160:1171]\n",
        "# xa, yb = batch_process(batch_df, 0)\n",
        "# a, b=model.predict(xa)\n",
        "# print(a)\n",
        "# predicted_units_int = np.argmax(b, axis=1)\n",
        "# b=label_encoder.inverse_transform(predicted_units_int)\n",
        "# print(b)"
      ],
      "metadata": {
        "id": "a6k6bhfwLS0z"
      },
      "id": "a6k6bhfwLS0z",
      "execution_count": null,
      "outputs": []
    },
    {
      "cell_type": "code",
      "source": [
        "# print(x[0].shape)\n",
        "# print(xa[2].ndim)\n",
        "# print(x[2].shape)\n",
        "# print(y[0].shape)\n",
        "# print(y[1].shape)"
      ],
      "metadata": {
        "collapsed": true,
        "id": "a5soSM9-5_Xb"
      },
      "id": "a5soSM9-5_Xb",
      "execution_count": null,
      "outputs": []
    },
    {
      "cell_type": "markdown",
      "source": [
        "### **Test data load and model Testing on Test data using batches**"
      ],
      "metadata": {
        "id": "7dYO7qn30Ovs"
      },
      "id": "7dYO7qn30Ovs"
    },
    {
      "cell_type": "code",
      "source": [
        "# Load the dataset\n",
        "df = pd.read_csv(\"train.csv\")"
      ],
      "metadata": {
        "id": "LDAHyXjG10dp"
      },
      "id": "LDAHyXjG10dp",
      "execution_count": null,
      "outputs": []
    },
    {
      "cell_type": "code",
      "source": [],
      "metadata": {
        "id": "zuV8DcaB1-lx"
      },
      "id": "zuV8DcaB1-lx",
      "execution_count": null,
      "outputs": []
    },
    {
      "cell_type": "markdown",
      "source": [
        "# Model Evaluation"
      ],
      "metadata": {
        "id": "VoGs8QNNs8C6"
      },
      "id": "VoGs8QNNs8C6"
    },
    {
      "cell_type": "code",
      "source": [
        "# # Evaluate the model using the F1 score\n",
        "# def evaluate_f1(y_true, y_pred):\n",
        "#     true_positives = np.sum((y_true != \"\") & (y_pred != \"\") & (y_true == y_pred))\n",
        "#     false_positives = np.sum((y_true != \"\") & (y_pred != \"\") & (y_true != y_pred))\n",
        "#     false_negatives = np.sum((y_true != \"\") & (y_pred == \"\"))\n",
        "#     true_negatives = np.sum((y_true == \"\") & (y_pred == \"\"))\n",
        "\n",
        "#     precision = true_positives / (true_positives + false_positives)\n",
        "#     recall = true_positives / (true_positives + false_negatives)\n",
        "\n",
        "#     f1 = 2 * precision * recall / (precision + recall)\n",
        "#     return f1\n",
        "\n",
        "# y_true = test_df['entity_value']\n",
        "# y_pred = output_predictions\n",
        "# f1 = evaluate_f1(y_true, y_pred)\n",
        "# print(f\"F1 score: {f1:.4f}\")"
      ],
      "metadata": {
        "id": "xCSngarKtI8G"
      },
      "id": "xCSngarKtI8G",
      "execution_count": null,
      "outputs": []
    },
    {
      "cell_type": "code",
      "source": [
        "from tensorflow.keras.utils import plot_model\n",
        "plot_model(model)"
      ],
      "metadata": {
        "id": "ZA7PIbIInW44",
        "colab": {
          "base_uri": "https://localhost:8080/",
          "height": 158
        },
        "outputId": "f9a35441-3b42-40dc-f7db-6d59cd9c81ef"
      },
      "id": "ZA7PIbIInW44",
      "execution_count": null,
      "outputs": [
        {
          "output_type": "error",
          "ename": "NameError",
          "evalue": "name 'model' is not defined",
          "traceback": [
            "\u001b[0;31m---------------------------------------------------------------------------\u001b[0m",
            "\u001b[0;31mNameError\u001b[0m                                 Traceback (most recent call last)",
            "\u001b[0;32m<ipython-input-8-31ed56d03f0e>\u001b[0m in \u001b[0;36m<cell line: 0>\u001b[0;34m()\u001b[0m\n\u001b[1;32m      1\u001b[0m \u001b[0;32mfrom\u001b[0m \u001b[0mtensorflow\u001b[0m\u001b[0;34m.\u001b[0m\u001b[0mkeras\u001b[0m\u001b[0;34m.\u001b[0m\u001b[0mutils\u001b[0m \u001b[0;32mimport\u001b[0m \u001b[0mplot_model\u001b[0m\u001b[0;34m\u001b[0m\u001b[0;34m\u001b[0m\u001b[0m\n\u001b[0;32m----> 2\u001b[0;31m \u001b[0mplot_model\u001b[0m\u001b[0;34m(\u001b[0m\u001b[0mmodel\u001b[0m\u001b[0;34m)\u001b[0m\u001b[0;34m\u001b[0m\u001b[0;34m\u001b[0m\u001b[0m\n\u001b[0m",
            "\u001b[0;31mNameError\u001b[0m: name 'model' is not defined"
          ]
        }
      ]
    },
    {
      "cell_type": "code",
      "source": [],
      "metadata": {
        "id": "w2U5_50_C-na"
      },
      "id": "w2U5_50_C-na",
      "execution_count": null,
      "outputs": []
    }
  ],
  "metadata": {
    "kernelspec": {
      "display_name": "Python 3",
      "name": "python3"
    },
    "language_info": {
      "codemirror_mode": {
        "name": "ipython",
        "version": 3
      },
      "file_extension": ".py",
      "mimetype": "text/x-python",
      "name": "python",
      "nbconvert_exporter": "python",
      "pygments_lexer": "ipython3",
      "version": "3.12.6"
    },
    "colab": {
      "provenance": [],
      "collapsed_sections": [
        "7dYO7qn30Ovs"
      ],
      "gpuType": "T4",
      "include_colab_link": true
    },
    "accelerator": "GPU"
  },
  "nbformat": 4,
  "nbformat_minor": 5
}